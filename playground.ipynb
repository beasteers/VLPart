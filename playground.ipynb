{
 "cells": [
  {
   "cell_type": "code",
   "execution_count": null,
   "metadata": {},
   "outputs": [],
   "source": [
    "%load_ext autoreload\n",
    "%autoreload 2"
   ]
  },
  {
   "cell_type": "code",
   "execution_count": null,
   "metadata": {},
   "outputs": [],
   "source": [
    "import numpy as np\n",
    "from PIL import Image\n",
    "from vlpart import VLPart, draw"
   ]
  },
  {
   "cell_type": "code",
   "execution_count": null,
   "metadata": {},
   "outputs": [],
   "source": [
    "model = VLPart()"
   ]
  },
  {
   "cell_type": "code",
   "execution_count": null,
   "metadata": {},
   "outputs": [],
   "source": [
    "# !wget -O samoyed.jpg https://www.samoyedclubofamerica.org/wp-content/uploads/2014/12/latesummersnow-USED.jpg\n",
    "# !wget -O trees-hands.jpg https://thumbs.dreamstime.com/b/environment-earth-day-hands-trees-growing-seedlings-bokeh-green-background-female-hand-holding-tree-nature-field-gra-130247647.jpg\n",
    "# !wget -O cups.jpg https://images.fineartamerica.com/images/artworkimages/mediumlarge/3/fiestaware-multi-color-cups-phill-lowe.jpg\n",
    "!wget -O notveganchicks.jpg https://static01.nyt.com/images/2012/04/02/us/JP-CHICKS/JP-CHICKS-jumbo.jpg"
   ]
  },
  {
   "cell_type": "code",
   "execution_count": null,
   "metadata": {},
   "outputs": [],
   "source": [
    "im=Image.open('notveganchicks.jpg').resize((1080, 720))\n",
    "im"
   ]
  },
  {
   "cell_type": "code",
   "execution_count": null,
   "metadata": {},
   "outputs": [],
   "source": [
    "model.set_vocab([\n",
    "    'dog not touching ground', 'dog shadow', 'clouds', 'sun', 'dog nose', 'dog pancreas', 'snow', \n",
    "    'cat', 'trees', 'bush', 'person', 'hand',\n",
    "    # 'purple chicks', 'green chicks', \n",
    "    'chicken', 'baby chicken'\n",
    "])"
   ]
  },
  {
   "cell_type": "code",
   "execution_count": null,
   "metadata": {},
   "outputs": [],
   "source": [
    "x = np.array(im)\n",
    "output = model(x)\n",
    "Image.fromarray(draw(x, output, model))"
   ]
  }
 ],
 "metadata": {
  "language_info": {
   "name": "python"
  },
  "orig_nbformat": 4
 },
 "nbformat": 4,
 "nbformat_minor": 2
}
